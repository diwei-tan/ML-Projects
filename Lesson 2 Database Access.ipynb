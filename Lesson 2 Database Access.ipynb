{
 "cells": [
  {
   "cell_type": "markdown",
   "metadata": {},
   "source": [
    "# Lesson 2 Database Access\n",
    "\n",
    "In this lesson, we are going to learn simple database access in Python. We are going to use SQLite since it doesn't require much setup. \n",
    "\n",
    "SQLite is a lightweight database that is stores the database in a file without having to run a dedicated server. The advantage is that SQLite is very lightweight and doesn't require any setup as long as you have the file. The disadvantage is that it is not designed for scalable concurrent access, so it is not suitable for server-side production system that is used by many users.\n",
    "\n",
    "The example is adapted from the official documentation at https://docs.python.org/3.7/library/sqlite3.html"
   ]
  },
  {
   "cell_type": "markdown",
   "metadata": {},
   "source": [
    "To use the module, you must first create a Connection object that represents the database. Here the data will be stored in the example.db file. \n",
    "\n",
    "If you don't wish to create any file (e.g. for testing purpose) you can ask SQLite to keep the database in memory by using :memory: instead. If you use memory, the data will be wiped out when you close the connection, so make sure that you don't close the connection until you are done with your testing. "
   ]
  },
  {
   "cell_type": "code",
   "execution_count": 1,
   "metadata": {},
   "outputs": [],
   "source": [
    "import sqlite3\n",
    "conn = sqlite3.connect('example.db')\n",
    "#conn = sqlite3.connect(':memory:')"
   ]
  },
  {
   "cell_type": "markdown",
   "metadata": {},
   "source": [
    "We need to create a cursor object from the connection. We use cursor object to execute SQL instructions. "
   ]
  },
  {
   "cell_type": "code",
   "execution_count": 2,
   "metadata": {},
   "outputs": [
    {
     "name": "stdout",
     "output_type": "stream",
     "text": [
      "<class 'sqlite3.Connection'> <class 'sqlite3.Cursor'>\n"
     ]
    }
   ],
   "source": [
    "c = conn.cursor()\n",
    "print (type(conn), type(c))"
   ]
  },
  {
   "cell_type": "markdown",
   "metadata": {},
   "source": [
    "Creating a table using cursor object. Note the use of triple single-quote to write a multi-line string."
   ]
  },
  {
   "cell_type": "code",
   "execution_count": 3,
   "metadata": {},
   "outputs": [
    {
     "data": {
      "text/plain": [
       "<sqlite3.Cursor at 0x149b13f4b20>"
      ]
     },
     "execution_count": 3,
     "metadata": {},
     "output_type": "execute_result"
    }
   ],
   "source": [
    "# Create table\n",
    "c.execute('''CREATE TABLE stocks\n",
    "             (date text, trans text, symbol text, qty real, price real)''')\n"
   ]
  },
  {
   "cell_type": "code",
   "execution_count": 4,
   "metadata": {},
   "outputs": [],
   "source": [
    "# Insert a row of data\n",
    "c.execute(\"INSERT INTO stocks VALUES ('2006-01-05','BUY','RHAT',100,35.14)\")\n",
    "\n",
    "# Save (commit) the changes\n",
    "conn.commit()"
   ]
  },
  {
   "cell_type": "markdown",
   "metadata": {},
   "source": [
    "You shouldn’t assemble your query using Python’s string operations because doing so is insecure; it makes your program vulnerable to an SQL injection attack (see https://xkcd.com/327/ for humorous example of what can go wrong).\n",
    "\n",
    "We should use parameter substitution instead of assembling the SQL using string operation."
   ]
  },
  {
   "cell_type": "code",
   "execution_count": 5,
   "metadata": {},
   "outputs": [],
   "source": [
    "# Larger example that inserts many records at a time\n",
    "purchases = [('2006-03-28', 'BUY', 'IBM', 1000, 45.00),\n",
    "             ('2006-04-05', 'BUY', 'MSFT', 1000, 72.00),\n",
    "             ('2006-04-06', 'SELL', 'IBM', 500, 53.00),\n",
    "            ]\n",
    "c.executemany('INSERT INTO stocks VALUES (?,?,?,?,?)', purchases)\n",
    "\n",
    "conn.commit()"
   ]
  },
  {
   "cell_type": "markdown",
   "metadata": {},
   "source": [
    "We need to close the connection once we are done with it. This is especially important when building long-running application (like a web application) to avoid 'connection leak' problem. Connection leak is a term used to describe a problem of an application running out of database connections because modules do not close the connection after they are done with it."
   ]
  },
  {
   "cell_type": "code",
   "execution_count": 6,
   "metadata": {},
   "outputs": [],
   "source": [
    "# We can also close the connection if we are done with it.\n",
    "# Just be sure any changes have been committed or they will be lost.\n",
    "conn.close()"
   ]
  },
  {
   "cell_type": "code",
   "execution_count": 7,
   "metadata": {},
   "outputs": [],
   "source": [
    "import sqlite3\n",
    "conn = sqlite3.connect('example.db')\n",
    "c = conn.cursor()"
   ]
  },
  {
   "cell_type": "code",
   "execution_count": 47,
   "metadata": {},
   "outputs": [
    {
     "name": "stdout",
     "output_type": "stream",
     "text": [
      "('2006-01-05', 'BUY', 'RHAT', 100.0, 35.14)\n",
      "(('date', None, None, None, None, None, None), ('trans', None, None, None, None, None, None), ('symbol', None, None, None, None, None, None), ('qty', None, None, None, None, None, None), ('price', None, None, None, None, None, None))\n",
      "date\n",
      "trans\n",
      "symbol\n",
      "qty\n",
      "price\n",
      "['date', 'trans', 'symbol', 'qty', 'price']\n"
     ]
    }
   ],
   "source": [
    "# Never do this -- insecure!\n",
    "symbol = 'RHAT'\n",
    "c.execute(\"SELECT * FROM stocks WHERE symbol = '%s'\" % symbol)\n",
    "\n",
    "# Do this instead\n",
    "t = ('RHAT',)\n",
    "c.execute('SELECT * FROM stocks WHERE symbol=?', t)\n",
    "print(c.fetchone())\n",
    "\n",
    "#list of columns returned\n",
    "print(c.description) # this returned a troublesome return value\n",
    "\n",
    "#we can do this to just read the column name\n",
    "for d in c.description:\n",
    "    print(d[0])\n",
    "\n",
    "#or if we have learned about list comprehension we can shorten it this way.\n",
    "print([x[0] for x in c.description])"
   ]
  },
  {
   "cell_type": "code",
   "execution_count": 35,
   "metadata": {},
   "outputs": [
    {
     "name": "stdout",
     "output_type": "stream",
     "text": [
      "('2006-01-05', 'BUY', 'RHAT', 100.0, 35.14)\n",
      "('2006-03-28', 'BUY', 'IBM', 1000.0, 45.0)\n",
      "('2006-04-06', 'SELL', 'IBM', 500.0, 53.0)\n",
      "('2006-04-05', 'BUY', 'MSFT', 1000.0, 72.0)\n"
     ]
    }
   ],
   "source": [
    "for row in c.execute('SELECT * FROM stocks ORDER BY price'):\n",
    "        print(row)\n"
   ]
  },
  {
   "cell_type": "code",
   "execution_count": 34,
   "metadata": {},
   "outputs": [
    {
     "name": "stdout",
     "output_type": "stream",
     "text": [
      "<class 'list'> 4\n",
      "2006-01-05\n",
      "2006-03-28\n",
      "2006-04-06\n",
      "2006-04-05\n"
     ]
    }
   ],
   "source": [
    "rows = c.execute('SELECT * FROM stocks ORDER BY price').fetchall()\n",
    "print(type(rows), len(rows))\n",
    "\n",
    "for row in rows:\n",
    "#    print(type(row))\n",
    "    print(row[0])\n"
   ]
  },
  {
   "cell_type": "markdown",
   "metadata": {},
   "source": [
    "Always close connection at the end."
   ]
  },
  {
   "cell_type": "code",
   "execution_count": 49,
   "metadata": {},
   "outputs": [],
   "source": [
    "conn.close()\n"
   ]
  }
 ],
 "metadata": {
  "kernelspec": {
   "display_name": "Python 3",
   "language": "python",
   "name": "python3"
  },
  "language_info": {
   "codemirror_mode": {
    "name": "ipython",
    "version": 3
   },
   "file_extension": ".py",
   "mimetype": "text/x-python",
   "name": "python",
   "nbconvert_exporter": "python",
   "pygments_lexer": "ipython3",
   "version": "3.7.3"
  }
 },
 "nbformat": 4,
 "nbformat_minor": 2
}
