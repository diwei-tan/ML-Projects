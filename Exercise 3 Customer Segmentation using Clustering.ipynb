{
 "cells": [
  {
   "cell_type": "markdown",
   "metadata": {},
   "source": [
    "# Exercise 3 Customer Segmentation using Clustering \n",
    "\n",
    "Download CSV from https://github.com/sowmyacr/kmeans_cluster/blob/master/CLV.csv and perform customer segmentation using the clustering method. Apply all 3 different clustering algorithms and visualize them to see the difference between them.\n",
    "\n",
    "Evaluate how many optimal clusters for this dataset and try to explain the clusters in business terms.\n",
    "\n",
    "For partial solutions, you can refer to: https://towardsdatascience.com/clustering-algorithms-for-customer-segmentation-af637c6830ac\n"
   ]
  },
  {
   "cell_type": "code",
   "execution_count": null,
   "metadata": {},
   "outputs": [],
   "source": []
  }
 ],
 "metadata": {
  "kernelspec": {
   "display_name": "Python 3",
   "language": "python",
   "name": "python3"
  },
  "language_info": {
   "codemirror_mode": {
    "name": "ipython",
    "version": 3
   },
   "file_extension": ".py",
   "mimetype": "text/x-python",
   "name": "python",
   "nbconvert_exporter": "python",
   "pygments_lexer": "ipython3",
   "version": "3.7.3"
  }
 },
 "nbformat": 4,
 "nbformat_minor": 2
}
