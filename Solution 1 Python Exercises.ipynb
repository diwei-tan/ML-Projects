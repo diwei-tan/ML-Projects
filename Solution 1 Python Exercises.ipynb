{
 "cells": [
  {
   "cell_type": "markdown",
   "metadata": {},
   "source": [
    "# Exercises for Python Language"
   ]
  },
  {
   "cell_type": "markdown",
   "metadata": {},
   "source": [
    "## Exercise 1\n",
    "\n",
    "Write a program to prompt the user for hours and rate per hour to compute gross pay.Take into account that the factory gives the employee 1.5 times the hourly rate for hours worked above 40 hours.\n",
    "\n",
    "Enter Hours: 45 Rate: 10 Pay: 475.0"
   ]
  },
  {
   "cell_type": "code",
   "execution_count": 3,
   "metadata": {},
   "outputs": [
    {
     "name": "stdout",
     "output_type": "stream",
     "text": [
      "Enter Hours: 10\n",
      "Rate: 10\n",
      "Pay:  100.0\n"
     ]
    }
   ],
   "source": [
    "hours = input('Enter Hours: ')\n",
    "rate = input('Rate: ')\n",
    "pay = int(hours) * float(rate)\n",
    "\n",
    "print('Pay: ', pay)"
   ]
  },
  {
   "cell_type": "markdown",
   "metadata": {},
   "source": [
    "## Exercise 2\n",
    "Write a program to prompt for a score between 0.0 and 1.0. If the core is out of range print an error. If the score is between 0.0 and 1.0, print a grade using the following table:\n",
    "\n",
    "Score Grade\n",
    "* \\>= 0.9 A\n",
    "* \\>= 0.8 B\n",
    "* \\>= 0.7 C\n",
    "* \\>= 0.6 D\n",
    "* \\< 0.6 F"
   ]
  },
  {
   "cell_type": "code",
   "execution_count": 10,
   "metadata": {},
   "outputs": [
    {
     "name": "stdout",
     "output_type": "stream",
     "text": [
      "Enter score: 0.3\n",
      "F\n"
     ]
    }
   ],
   "source": [
    "score = float(input (\"Enter score: \"))\n",
    "if score>=0.9:\n",
    "    print(\"A\")\n",
    "elif score >=0.8:\n",
    "    print(\"B\")\n",
    "elif score >=0.7:\n",
    "    print(\"C\")\n",
    "elif score >=0.6:\n",
    "    print(\"D\")\n",
    "else:\n",
    "    print(\"F\")"
   ]
  },
  {
   "cell_type": "markdown",
   "metadata": {},
   "source": [
    "## Exercise 3\n",
    "\n",
    "Write a shutting down program:\n",
    "\n",
    "First, def a function, shut_down, that takes one argument s. \n",
    "\n",
    "Then, if the shut_down function receives an s equal to \"yes\", it should return \"Shutting down\" \n",
    "\n",
    "Alternatively, elif s is equal to \"no\", then the function should return \"Shutdown aborted\". \n",
    "\n",
    "Finally, if shut_down gets anything other than those inputs, the function should return \"Sorry\"."
   ]
  },
  {
   "cell_type": "code",
   "execution_count": 14,
   "metadata": {},
   "outputs": [
    {
     "name": "stdout",
     "output_type": "stream",
     "text": [
      "Shutting down\n",
      "Shutdown aborted\n",
      "Sorry\n"
     ]
    }
   ],
   "source": [
    "def shut_down(s):\n",
    "    if s=='yes':\n",
    "        return 'Shutting down'\n",
    "    elif s=='no':\n",
    "        return 'Shutdown aborted'\n",
    "    else:\n",
    "        return 'Sorry'\n",
    "    \n",
    "print(shut_down('yes'))\n",
    "print(shut_down('no'))\n",
    "print(shut_down('others'))"
   ]
  },
  {
   "cell_type": "markdown",
   "metadata": {},
   "source": [
    "## Exercise 4\n",
    "\n",
    "Write a function that accepts a sentence and capitalize the first letter of each words in the string. You can use split() method to split the sentence into its words"
   ]
  },
  {
   "cell_type": "code",
   "execution_count": 27,
   "metadata": {},
   "outputs": [
    {
     "name": "stdout",
     "output_type": "stream",
     "text": [
      "To Be Or Not To Be\n"
     ]
    }
   ],
   "source": [
    "def capitalize(sentence):\n",
    "    words = sentence.split()\n",
    "\n",
    "    new_sentence=''\n",
    "\n",
    "    for word in words:\n",
    "        new_sentence = new_sentence + word[0].upper()+word[1:] + ' '\n",
    "        \n",
    "    return new_sentence.strip()\n",
    "\n",
    "sentence = 'to be or not to be'\n",
    "    \n",
    "print(capitalize(sentence))"
   ]
  },
  {
   "cell_type": "markdown",
   "metadata": {},
   "source": [
    "## Exercise 5\n",
    "\n",
    "Implement a number guessing game. You can generate a random number using the following code:\n",
    "\n",
    "import random\n",
    "  print random.randint(1,101)"
   ]
  },
  {
   "cell_type": "code",
   "execution_count": 33,
   "metadata": {},
   "outputs": [
    {
     "name": "stdout",
     "output_type": "stream",
     "text": [
      "Enter your guess: 1\n",
      "Try again\n",
      "Enter your guess: 2\n",
      "Try again\n",
      "Enter your guess: 3\n",
      "Try again\n",
      "Enter your guess: 4\n",
      "Try again\n",
      "Enter your guess: 5\n",
      "Try again\n",
      "Enter your guess: 6\n",
      "You are correct!\n"
     ]
    }
   ],
   "source": [
    "import random\n",
    "\n",
    "secret = random.randint(1,11)\n",
    "\n",
    "guessed = False\n",
    "\n",
    "while (not(guessed)):\n",
    "    guess = int(input('Enter your guess: '))\n",
    "    if guess==secret:\n",
    "        guessed = True\n",
    "        print('You are correct!')\n",
    "    else:\n",
    "        print('Try again')"
   ]
  },
  {
   "cell_type": "markdown",
   "metadata": {},
   "source": [
    "## Exercise 6\n",
    "\n",
    "Write a function that calculate factorial based on a positive integer input. 3! is 3 x 2 x 1 = 6. "
   ]
  },
  {
   "cell_type": "code",
   "execution_count": 36,
   "metadata": {},
   "outputs": [
    {
     "name": "stdout",
     "output_type": "stream",
     "text": [
      "120\n"
     ]
    }
   ],
   "source": [
    "def factorial(x):\n",
    "    if (x==1):\n",
    "        return 1\n",
    "    elif (x<1):\n",
    "        return None # or anything else that you want to use to indicate error\n",
    "    else:\n",
    "        return x * factorial(x-1)\n",
    "    \n",
    "print(factorial(5))"
   ]
  },
  {
   "cell_type": "markdown",
   "metadata": {},
   "source": [
    "## Exercise 7\n",
    "Follow the steps:\n",
    "\n",
    "1. Create a class, Triangle. Its __init__() method should take self, angle1, angle2, and angle3 as arguments. Make sure to set these appropriately in the body of the __init__()method.\n",
    "2. Create a variable named number_of_sides and set it equal to 3.\n",
    "3. Create a method named check_angles. The sum of a triangle's three angles is It should return True if the sum of self.angle1, self.angle2, and self.angle3 is equal 180, and False otherwise.\n",
    "4. Create a variable named my_triangle and set it equal to a new instance of your Triangle class. Pass it three angles that sum to 180 (e.g. 90, 30, 60).\n",
    "5. Print out my_triangle.number_of_sides and print out my_triangle.check_angles().\n"
   ]
  },
  {
   "cell_type": "code",
   "execution_count": 40,
   "metadata": {},
   "outputs": [
    {
     "name": "stdout",
     "output_type": "stream",
     "text": [
      "False\n",
      "True\n"
     ]
    }
   ],
   "source": [
    "class Triangle:\n",
    "    def __init__(self, angle1, angle2, angle3):\n",
    "        self.angle1=angle1\n",
    "        self.angle2=angle2\n",
    "        self.angle3=angle3\n",
    "        \n",
    "    def check_angle(self):\n",
    "        if self.angle1 + self.angle2 + self.angle3==180:\n",
    "            return True\n",
    "        else :\n",
    "            return False\n",
    "        \n",
    "t1 = Triangle(10,20,30)\n",
    "print(t1.check_angle())\n",
    "\n",
    "t2 = Triangle(90, 60, 30)\n",
    "print(t2.check_angle())"
   ]
  },
  {
   "cell_type": "markdown",
   "metadata": {},
   "source": [
    "## Exercise 8\n",
    "\n",
    "Define a list and populate it with integer numbers from 1-10.\n",
    "\n",
    "Write a loop that count the content of the list and store the information in a dictionary\n",
    "\n",
    "For example, if the list is \\[1, 3, 3, 1, 2] then the dictionary should contain\n",
    "{ 1: 2, 2: 1, 3: 2}"
   ]
  },
  {
   "cell_type": "code",
   "execution_count": 43,
   "metadata": {},
   "outputs": [
    {
     "name": "stdout",
     "output_type": "stream",
     "text": [
      "{1: 2, 3: 2, 2: 1}\n"
     ]
    }
   ],
   "source": [
    "l = [1,3,3,1,2]\n",
    "\n",
    "m = {}\n",
    "\n",
    "for n in l:\n",
    "    if n in m:\n",
    "        m[n] = m[n]+1\n",
    "    else:\n",
    "        m[n] = 1\n",
    "        \n",
    "print(m)"
   ]
  }
 ],
 "metadata": {
  "kernelspec": {
   "display_name": "Python 3",
   "language": "python",
   "name": "python3"
  },
  "language_info": {
   "codemirror_mode": {
    "name": "ipython",
    "version": 3
   },
   "file_extension": ".py",
   "mimetype": "text/x-python",
   "name": "python",
   "nbconvert_exporter": "python",
   "pygments_lexer": "ipython3",
   "version": "3.7.3"
  }
 },
 "nbformat": 4,
 "nbformat_minor": 2
}
