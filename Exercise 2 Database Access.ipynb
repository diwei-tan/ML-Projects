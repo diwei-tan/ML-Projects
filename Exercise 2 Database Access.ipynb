{
 "cells": [
  {
   "cell_type": "markdown",
   "metadata": {},
   "source": [
    "# Exercise 2 - Database Access\n",
    "\n",
    "In this exercise we are going to practice accessing RDBMS database using Python.\n",
    "\n",
    "\n",
    "\n"
   ]
  },
  {
   "cell_type": "markdown",
   "metadata": {},
   "source": [
    "Create a connection to SQLite sales database (e.g. 'sales.db')"
   ]
  },
  {
   "cell_type": "code",
   "execution_count": null,
   "metadata": {},
   "outputs": [],
   "source": []
  },
  {
   "cell_type": "markdown",
   "metadata": {},
   "source": [
    "Create a table called *salesman* with the following structure\n",
    "\n",
    "| column      | type |             |\n",
    "|-------------|------|-------------|\n",
    "| salesman_id | text | primary key |\n",
    "| name        | text |             |\n",
    "| city        | text |             |\n",
    "| commision   | real |             |"
   ]
  },
  {
   "cell_type": "code",
   "execution_count": null,
   "metadata": {},
   "outputs": [],
   "source": []
  },
  {
   "cell_type": "markdown",
   "metadata": {},
   "source": [
    "Populate *salesman* table with the following data:\n",
    "\n",
    "| salesman_id | name       | city     | commission |\n",
    "|-------------|------------|----------|------------|\n",
    "| 5001        | James Hoog | New York | 0.15       |\n",
    "| 5002        | Nail Knite | Paris    | 0.13       |\n",
    "| 5005        | Pit Alex   | London   | 0.11       |\n",
    "| 5006        | Mc Lyon    | Paris    | 0.14       |\n",
    "| 5003        | Lauson Hen | <na   >  | 0.12       |\n",
    "| 5007        | Paul Adam  | Rome     | 0.13       |\n",
    "    \n"
   ]
  },
  {
   "cell_type": "code",
   "execution_count": null,
   "metadata": {},
   "outputs": [],
   "source": []
  },
  {
   "cell_type": "markdown",
   "metadata": {},
   "source": [
    "Write a SQL statement to display all the information of all salesmen."
   ]
  },
  {
   "cell_type": "code",
   "execution_count": null,
   "metadata": {},
   "outputs": [],
   "source": []
  },
  {
   "cell_type": "markdown",
   "metadata": {},
   "source": [
    "Write an SQL statement to display the names of all salesmen with above average commission"
   ]
  },
  {
   "cell_type": "code",
   "execution_count": null,
   "metadata": {},
   "outputs": [],
   "source": []
  },
  {
   "cell_type": "markdown",
   "metadata": {},
   "source": [
    "Increase the commission for all salesmen in Paris by 2% (additional 0.02)"
   ]
  },
  {
   "cell_type": "code",
   "execution_count": null,
   "metadata": {},
   "outputs": [],
   "source": []
  },
  {
   "cell_type": "markdown",
   "metadata": {},
   "source": [
    "Create customer table\n",
    "\n",
    "| Column Name | Type    |             |\n",
    "|-------------|---------|-------------|\n",
    "| customer_id | text    | primary key |\n",
    "| cust_name   | text    |             |\n",
    "| city        | text    |             |\n",
    "| grade       | integer |             |\n",
    "| salesman_id | text    | foreign key |"
   ]
  },
  {
   "cell_type": "code",
   "execution_count": null,
   "metadata": {},
   "outputs": [],
   "source": []
  },
  {
   "cell_type": "markdown",
   "metadata": {},
   "source": [
    "Populate customer table with the following information\n",
    "\n",
    "| customer_id | cust_name    | city       | grade | salesman_id |\n",
    "|-------------|--------------|------------|-------|-------------|\n",
    "| 3002        | Nick Rimando | New York   | 100   | 5001        |\n",
    "| 3005        | Graham Zusi  | California | 200   | 5002        |\n",
    "| 3001        | Brad Guzan   | London     | 100   | 5005        |\n",
    "| 3004        | Fabian Johns | Paris      | 300   | 5006        |\n",
    "| 3007        | Brad Davis   | New York   | 200   | 5001        |\n",
    "| 3009        | Geoff Camero | Berlin     | 100   | 5003        |\n",
    "| 3008        | Julian Green | London     | 300   | 5002        |\n",
    "| 3003        | Jozy Altidor | Moscow     | 200   | 5007        |"
   ]
  },
  {
   "cell_type": "code",
   "execution_count": null,
   "metadata": {},
   "outputs": [],
   "source": []
  },
  {
   "cell_type": "markdown",
   "metadata": {},
   "source": [
    "Write a SQL statement to display all the information for those customers with a grade of 200."
   ]
  },
  {
   "cell_type": "code",
   "execution_count": null,
   "metadata": {},
   "outputs": [],
   "source": []
  },
  {
   "cell_type": "markdown",
   "metadata": {},
   "source": [
    "Write an SQL statement to display the customer name, salesman and the city for customers with a grade of 200 and above."
   ]
  },
  {
   "cell_type": "code",
   "execution_count": null,
   "metadata": {},
   "outputs": [],
   "source": []
  },
  {
   "cell_type": "markdown",
   "metadata": {},
   "source": [
    "Don't forget to close the connection!"
   ]
  },
  {
   "cell_type": "code",
   "execution_count": null,
   "metadata": {},
   "outputs": [],
   "source": []
  }
 ],
 "metadata": {
  "kernelspec": {
   "display_name": "Python 3",
   "language": "python",
   "name": "python3"
  },
  "language_info": {
   "codemirror_mode": {
    "name": "ipython",
    "version": 3
   },
   "file_extension": ".py",
   "mimetype": "text/x-python",
   "name": "python",
   "nbconvert_exporter": "python",
   "pygments_lexer": "ipython3",
   "version": "3.7.3"
  }
 },
 "nbformat": 4,
 "nbformat_minor": 2
}
