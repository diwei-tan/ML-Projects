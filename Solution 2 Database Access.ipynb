{
 "cells": [
  {
   "cell_type": "markdown",
   "metadata": {},
   "source": [
    "# Exercise 2 - Database Access\n",
    "\n",
    "In this exercise we are going to practice accessing RDBMS database using Python.\n",
    "\n",
    "\n",
    "\n"
   ]
  },
  {
   "cell_type": "markdown",
   "metadata": {},
   "source": [
    "Create a connection to SQLite sales database (e.g. 'sales.db')"
   ]
  },
  {
   "cell_type": "code",
   "execution_count": 1,
   "metadata": {},
   "outputs": [
    {
     "name": "stdout",
     "output_type": "stream",
     "text": [
      "<sqlite3.Connection object at 0x00000205D875F1F0>\n"
     ]
    }
   ],
   "source": [
    "import sqlite3\n",
    "conn = sqlite3.connect('sales.db')\n",
    "print(conn)"
   ]
  },
  {
   "cell_type": "markdown",
   "metadata": {},
   "source": [
    "Create a table called *salesman* with the following structure\n",
    "\n",
    "| column      | type |             |\n",
    "|-------------|------|-------------|\n",
    "| salesman_id | text | primary key |\n",
    "| name        | text |             |\n",
    "| city        | text |             |\n",
    "| commision   | real |             |"
   ]
  },
  {
   "cell_type": "code",
   "execution_count": 2,
   "metadata": {},
   "outputs": [
    {
     "data": {
      "text/plain": [
       "<sqlite3.Cursor at 0x205d8714b20>"
      ]
     },
     "execution_count": 2,
     "metadata": {},
     "output_type": "execute_result"
    }
   ],
   "source": [
    "# Create table\n",
    "conn.execute('''CREATE TABLE salesman\n",
    "             (salesman_id text primary key, name text, city text, commission real)''')"
   ]
  },
  {
   "cell_type": "markdown",
   "metadata": {},
   "source": [
    "Populate *salesman* table with the following data:\n",
    "\n",
    "| salesman_id | name       | city     | commission |\n",
    "|-------------|------------|----------|------------|\n",
    "| 5001        | James Hoog | New York | 0.15       |\n",
    "| 5002        | Nail Knite | Paris    | 0.13       |\n",
    "| 5005        | Pit Alex   | London   | 0.11       |\n",
    "| 5006        | Mc Lyon    | Paris    | 0.14       |\n",
    "| 5003        | Lauson Hen | <na   >  | 0.12       |\n",
    "| 5007        | Paul Adam  | Rome     | 0.13       |\n",
    "    \n"
   ]
  },
  {
   "cell_type": "code",
   "execution_count": 3,
   "metadata": {},
   "outputs": [
    {
     "data": {
      "text/plain": [
       "<sqlite3.Cursor at 0x205d87149d0>"
      ]
     },
     "execution_count": 3,
     "metadata": {},
     "output_type": "execute_result"
    }
   ],
   "source": [
    "salesman = [('5001', 'James Hoog', 'New York', 0.15),\n",
    "            ('5002', 'Nail Knite', 'Paris', 0.13),\n",
    "            ('5005', 'Pit Alex', 'London', 0.11),\n",
    "            ('5006', 'Mc Lyon', 'Paris', 0.14),\n",
    "            ('5003', 'Lauson Hen', None, 0.12),\n",
    "            ('5007', 'Paul Adam', 'Rome', 0.13),\n",
    "            ]\n",
    "conn.executemany('INSERT INTO salesman VALUES (?,?,?,?)', salesman)\n"
   ]
  },
  {
   "cell_type": "markdown",
   "metadata": {},
   "source": [
    "Write a SQL statement to display all the information of all salesmen."
   ]
  },
  {
   "cell_type": "code",
   "execution_count": 4,
   "metadata": {},
   "outputs": [
    {
     "name": "stdout",
     "output_type": "stream",
     "text": [
      "('5001', 'James Hoog', 'New York', 0.15)\n",
      "('5002', 'Nail Knite', 'Paris', 0.13)\n",
      "('5005', 'Pit Alex', 'London', 0.11)\n",
      "('5006', 'Mc Lyon', 'Paris', 0.14)\n",
      "('5003', 'Lauson Hen', None, 0.12)\n",
      "('5007', 'Paul Adam', 'Rome', 0.13)\n"
     ]
    }
   ],
   "source": [
    "for row in conn.execute('SELECT * FROM salesman'):\n",
    "    print(row)"
   ]
  },
  {
   "cell_type": "markdown",
   "metadata": {},
   "source": [
    "Write an SQL statement to display the names of all salesmen with above average commission"
   ]
  },
  {
   "cell_type": "code",
   "execution_count": 5,
   "metadata": {},
   "outputs": [
    {
     "name": "stdout",
     "output_type": "stream",
     "text": [
      "('5001', 'James Hoog', 'New York', 0.15)\n",
      "('5006', 'Mc Lyon', 'Paris', 0.14)\n"
     ]
    }
   ],
   "source": [
    "for row in conn.execute('SELECT * FROM salesman where commission > (select avg(commission) from salesman)'):\n",
    "    print(row)"
   ]
  },
  {
   "cell_type": "markdown",
   "metadata": {},
   "source": [
    "Increase the commission for all salesmen in Paris by 2% (additional 0.02)"
   ]
  },
  {
   "cell_type": "code",
   "execution_count": 6,
   "metadata": {},
   "outputs": [
    {
     "data": {
      "text/plain": [
       "<sqlite3.Cursor at 0x205d8714f10>"
      ]
     },
     "execution_count": 6,
     "metadata": {},
     "output_type": "execute_result"
    }
   ],
   "source": [
    "# Create table\n",
    "conn.execute('''UPDATE salesman \n",
    "                SET commission = commission + 0.02\n",
    "                WHERE city='Paris'  ''')"
   ]
  },
  {
   "cell_type": "markdown",
   "metadata": {},
   "source": [
    "Create customer table\n",
    "\n",
    "| Column Name | Type    |             |\n",
    "|-------------|---------|-------------|\n",
    "| customer_id | text    | primary key |\n",
    "| cust_name   | text    |             |\n",
    "| city        | text    |             |\n",
    "| grade       | integer |             |\n",
    "| salesman_id | text    | foreign key |"
   ]
  },
  {
   "cell_type": "code",
   "execution_count": 7,
   "metadata": {},
   "outputs": [
    {
     "data": {
      "text/plain": [
       "<sqlite3.Cursor at 0x205d87870a0>"
      ]
     },
     "execution_count": 7,
     "metadata": {},
     "output_type": "execute_result"
    }
   ],
   "source": [
    "# Create table\n",
    "conn.execute('''CREATE TABLE customer\n",
    "             (customer_id text primary key, cust_name text, city text, grade integer, \n",
    "             salesman_id text, foreign key(salesman_id) references salesman(salesman_id) )''')"
   ]
  },
  {
   "cell_type": "markdown",
   "metadata": {},
   "source": [
    "Populate customer table with the following information\n",
    "\n",
    "| customer_id | cust_name    | city       | grade | salesman_id |\n",
    "|-------------|--------------|------------|-------|-------------|\n",
    "| 3002        | Nick Rimando | New York   | 100   | 5001        |\n",
    "| 3005        | Graham Zusi  | California | 200   | 5002        |\n",
    "| 3001        | Brad Guzan   | London     | 100   | 5005        |\n",
    "| 3004        | Fabian Johns | Paris      | 300   | 5006        |\n",
    "| 3007        | Brad Davis   | New York   | 200   | 5001        |\n",
    "| 3009        | Geoff Camero | Berlin     | 100   | 5003        |\n",
    "| 3008        | Julian Green | London     | 300   | 5002        |\n",
    "| 3003        | Jozy Altidor | Moscow     | 200   | 5007        |"
   ]
  },
  {
   "cell_type": "code",
   "execution_count": 8,
   "metadata": {},
   "outputs": [
    {
     "data": {
      "text/plain": [
       "<sqlite3.Cursor at 0x205d8714f80>"
      ]
     },
     "execution_count": 8,
     "metadata": {},
     "output_type": "execute_result"
    }
   ],
   "source": [
    "customers = [('3002', 'Nick Rimando', 'New York', 100, 5001),\n",
    "            ('3005', 'Graham Zusi', 'California', 200, 5002),\n",
    "            ('3001', 'Brad Guzan', 'London', 100, 5005),\n",
    "            ('3004', 'Fabian Johns', 'Paris', 300, 5006),\n",
    "            ('3007', 'Brad Davis', 'New York', 200, 5001),\n",
    "            ('3009', 'Geoff Camero', 'Berlin', 100, 5003),\n",
    "            ('3008', 'Julian Green', 'London', 300, 5002),\n",
    "            ('3003', 'Jozy Altidor', 'Moscow', 200, 5007), \n",
    "            ]\n",
    "conn.executemany('INSERT INTO customer VALUES (?,?,?,?,?)', customers)"
   ]
  },
  {
   "cell_type": "markdown",
   "metadata": {},
   "source": [
    "Write a SQL statement to display all the information for those customers with a grade of 200."
   ]
  },
  {
   "cell_type": "code",
   "execution_count": 9,
   "metadata": {},
   "outputs": [
    {
     "name": "stdout",
     "output_type": "stream",
     "text": [
      "('3005', 'Graham Zusi', 'California', 200, '5002')\n",
      "('3007', 'Brad Davis', 'New York', 200, '5001')\n",
      "('3003', 'Jozy Altidor', 'Moscow', 200, '5007')\n"
     ]
    }
   ],
   "source": [
    "for row in conn.execute('SELECT * FROM customer WHERE grade=200'):\n",
    "    print(row)"
   ]
  },
  {
   "cell_type": "markdown",
   "metadata": {},
   "source": [
    "Write an SQL statement to display the customer name, salesman and the city for customers with a grade of 200 and above."
   ]
  },
  {
   "cell_type": "code",
   "execution_count": 10,
   "metadata": {},
   "outputs": [
    {
     "name": "stdout",
     "output_type": "stream",
     "text": [
      "('Graham Zusi', 'Nail Knite', 'Paris')\n",
      "('Fabian Johns', 'Mc Lyon', 'Paris')\n",
      "('Brad Davis', 'James Hoog', 'New York')\n",
      "('Julian Green', 'Nail Knite', 'Paris')\n",
      "('Jozy Altidor', 'Paul Adam', 'Rome')\n"
     ]
    }
   ],
   "source": [
    "for row in conn.execute('''SELECT c.cust_name, s.name, s.city \n",
    "                        FROM customer c, salesman s\n",
    "                        WHERE c.grade>=200 \n",
    "                        AND c.salesman_id = s.salesman_id'''):\n",
    "    print(row)"
   ]
  },
  {
   "cell_type": "markdown",
   "metadata": {},
   "source": [
    "Don't forget to close the connection!"
   ]
  },
  {
   "cell_type": "code",
   "execution_count": 11,
   "metadata": {},
   "outputs": [],
   "source": [
    "conn.close()"
   ]
  }
 ],
 "metadata": {
  "kernelspec": {
   "display_name": "Python 3",
   "language": "python",
   "name": "python3"
  },
  "language_info": {
   "codemirror_mode": {
    "name": "ipython",
    "version": 3
   },
   "file_extension": ".py",
   "mimetype": "text/x-python",
   "name": "python",
   "nbconvert_exporter": "python",
   "pygments_lexer": "ipython3",
   "version": "3.7.3"
  }
 },
 "nbformat": 4,
 "nbformat_minor": 2
}
