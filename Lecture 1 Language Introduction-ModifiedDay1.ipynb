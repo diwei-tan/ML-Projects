{
 "cells": [
  {
   "cell_type": "markdown",
   "metadata": {},
   "source": [
    "# Language Basic\n",
    "\n",
    "# Topics covered\n",
    "\n",
    "* Variables and Types\n",
    "  * Type conversion (Casting)\n",
    "* Print (Output to Screen)\n",
    "* Comment \n",
    "* Data Types, Variables and Values\n",
    "* Operators and Precedence\n",
    "* Input (Keyboard)\n",
    "* Conditional: Logical Expressions or Boolean Algebra\n",
    "* Conditional: if-elif-else Statements\n",
    "* Indentation\n",
    "* Iteration: While Loop\n",
    "* Iteration: For Loop\n",
    "* String interpolation\n",
    "* Data structures\n"
   ]
  },
  {
   "cell_type": "markdown",
   "metadata": {},
   "source": [
    "# Variables and types\n",
    "\n",
    "Python is a dynamically-typed language which means that we do not know the type of a variable until we run it, unlike C# and Java that we have learned before. \n",
    "\n",
    "As the implication, we do not need to specifically declare the type of a variable. A variable will start to exist the moment you use it. A variable can contain values of any type and you can query the type by using type() method. \n",
    "\n",
    "In the example below, we are using a variable x which contains an int value and then we overwrite it with a string value."
   ]
  },
  {
   "cell_type": "code",
   "execution_count": 1,
   "metadata": {},
   "outputs": [
    {
     "name": "stdout",
     "output_type": "stream",
     "text": [
      "6\n",
      "<class 'int'>\n"
     ]
    }
   ],
   "source": [
    "x = 6\n",
    "print(x)\n",
    "print(type(x))"
   ]
  },
  {
   "cell_type": "code",
   "execution_count": 2,
   "metadata": {},
   "outputs": [
    {
     "name": "stdout",
     "output_type": "stream",
     "text": [
      "Hello world\n",
      "<class 'str'>\n"
     ]
    }
   ],
   "source": [
    "x = \"Hello world\"\n",
    "print(x)\n",
    "print(type(x))"
   ]
  },
  {
   "cell_type": "markdown",
   "metadata": {},
   "source": [
    "# Naming conventions\n",
    "\n",
    "## Common Conventions\n",
    "- Summarized from https://www.python.org/dev/peps/pep-0008/#function-and-variable-names\n",
    "\n",
    "- UpperCamelCase for Class Names (https://en.wikipedia.org/wiki/Camel_case)\n",
    "\n",
    "- CAPITALIZED_WITH_UNDERSCORES for constants\n",
    "\n",
    "- lowercase_separated_by_underscores for others\n",
    "\n",
    "- snakeCase for others as an alternative for others (https://en.wikipedia.org/wiki/Snake_case) if there's already an existing style that we need to follow for backward compatibility\n",
    "    - **What**: Since Python won't recognize words separated by spaces, we use snake casing \n",
    "    - **How**: The spaces are replaced with underscore character (_), with each element's initial letter usually lowercased within the compound and the first letter either upper or lower case "
   ]
  },
  {
   "cell_type": "code",
   "execution_count": 3,
   "metadata": {},
   "outputs": [],
   "source": [
    "#userName #Java or C#\n",
    "\n",
    "#user_name #Python\n",
    "\n",
    "MAX_DUCKS = 100 #constants\n",
    "\n",
    "class Duck: # class names\n",
    "    def quack(self): # method name using lowercase and underscores\n",
    "        print(\"Quack\")\n",
    "        \n",
    "    def lay_egg(self):\n",
    "        print(\"Laying egg\")\n",
    "        \n",
    "new_duck = Duck() # variable name with lowercase and underscores"
   ]
  },
  {
   "cell_type": "markdown",
   "metadata": {},
   "source": [
    "# Type Conversion (Casting)\n",
    "- Python is able to convert a data type from one to the other via implicit or explicit methods\n",
    "- Python has the intelligence to guess what data type by the value and this is the implicit type conversion\n",
    "- You can explicitly cast a variable from one data type to another\n",
    "- Function:    \n",
    "    - int(x)   = Converts x to an integer\n",
    "    - float(x) = Converts x to a floating-point number\n",
    "    - str(x)   = Converts object x to a string representation\n",
    "    - chr(x)   = Converts an integer to a character\n",
    "    \n",
    "- These functions are part of the built-in functions in Python. The full list can be found at https://docs.python.org/3/library/functions.html "
   ]
  },
  {
   "cell_type": "code",
   "execution_count": 5,
   "metadata": {},
   "outputs": [
    {
     "name": "stdout",
     "output_type": "stream",
     "text": [
      "1 <class 'int'>\n",
      "1 <class 'str'>\n",
      "10 <class 'str'>\n",
      "10 <class 'int'>\n",
      "10 <class 'str'>\n",
      "100.1 <class 'float'>\n"
     ]
    }
   ],
   "source": [
    "x = 1\n",
    "print(x, type(x)) # Python will print x and type(x)\n",
    "x = str(x)\n",
    "print(x, type(x))\n",
    "\n",
    "y = \"10\"\n",
    "print(y, type(y))\n",
    "y = int(y)\n",
    "print(y, type(y))\n",
    "\n",
    "z = \"100.1\"\n",
    "print(y, type(z))\n",
    "z = float(z)\n",
    "print(z, type(z))\n"
   ]
  },
  {
   "cell_type": "markdown",
   "metadata": {},
   "source": [
    "# Operators and Precedence\n",
    "\n",
    "| Operator | Description |\n",
    "| --- | --- |\n",
    "| lambda | Lambda expression |\n",
    "|if – else | Conditional expression |\n",
    "|or | Boolean OR |\n",
    "|and | Boolean AND |\n",
    "| not x | Boolean NOT |\n",
    "| in, not in, is, is not, <, <=, >, >=, !=, == | Comparisons, including membership tests and identity tests |\n",
    "| | | Bitwise OR |\n",
    "| ^ | Bitwise XOR |\n",
    "| & | Bitwise AND |\n",
    "| <<, >> | Shifts |\n",
    "| +, - | Addition and subtraction |\n",
    "| *, @, /, //, % | Multiplication, matrix multiplication, division, floor division, remainder |\n",
    "| +x, -x, ~x | Positive, negative, bitwise NOT |\n",
    "| ** | Exponentiation |\n",
    "| await x | Await expression |\n",
    "| x[index], x[index:index], x(arguments...), x.attribute | Subscription, slicing, call, attribute reference |\n",
    "| (expressions...), [expressions...], {key: value...}, {expressions...} | Binding or tuple display, list display, dictionary display, set display |\n",
    "\n",
    "* Arithmetic operators: symbols that represent computation\n",
    "* Values the operator uses are called **operands**\n",
    "* Note that there is a difference when dividing with integers and floats.\n",
    "        \n",
    "        Recall that integers are whole numbers and floats are numbers with decimals \n",
    "\n",
    "* When we divide **two integers**, we get an integer answer\n",
    "           \n",
    "        If the answer mathematically has a decimal, we would only see the whole number \n",
    "        It is **not** rounded; it is cut off (you only see the whole numbers)\n",
    " \n",
    "* When we divide **an integer and a float**, we get a float \n"
   ]
  },
  {
   "cell_type": "code",
   "execution_count": 8,
   "metadata": {},
   "outputs": [
    {
     "name": "stdout",
     "output_type": "stream",
     "text": [
      "2.5 <class 'float'>\n",
      "2 <class 'int'>\n",
      "2.0 <class 'float'>\n"
     ]
    }
   ],
   "source": [
    "print(5/2, type(5/2))\n",
    "print(5//2, type(5//2)) # Python has a special operator for 'floor division' (or what we call as integer division in C#)\n",
    "print(5.0//2, type(5.0//2)) # Python has a special operator for 'floor division' (or what we call as integer division in C#)"
   ]
  },
  {
   "cell_type": "markdown",
   "metadata": {},
   "source": [
    "# Receiving Text Input from User\n",
    "- Displays whatever is between the (   ) on the screen and returns a String\n",
    "- Syntax: input(String Object)\n",
    "- Output: String Object\n",
    "- Example: print(“Please enter your input”)\n",
    "- <a href=\"https://docs.python.org/3/library/functions.html#input\">Documentation</a>\n"
   ]
  },
  {
   "cell_type": "code",
   "execution_count": 6,
   "metadata": {},
   "outputs": [
    {
     "name": "stdout",
     "output_type": "stream",
     "text": [
      "Enter your First Number5\n",
      "Enter your Second Number10\n",
      "Result: a + b =  15\n"
     ]
    }
   ],
   "source": [
    "# Read two inputs from users\n",
    "a = input(\"Enter your First Number: \")\n",
    "b = input(\"Enter your Second Number:\")\n",
    "\n",
    "# perform type conversion\n",
    "a = int(a)\n",
    "b = int(b)\n",
    "\n",
    "print ( \"Result: a + b = \", a +b )"
   ]
  },
  {
   "cell_type": "code",
   "execution_count": 14,
   "metadata": {},
   "outputs": [
    {
     "name": "stdout",
     "output_type": "stream",
     "text": [
      "Enter your first number: 10\n",
      "Enter your second number: 20\n",
      "<class 'int'> <class 'int'>\n",
      "30\n"
     ]
    }
   ],
   "source": [
    "a = int(input(\"Enter your first number: \"))\n",
    "b = int(input(\"Enter your second number: \"))\n",
    "print(type(a), type(b))\n",
    "print (a+b)"
   ]
  },
  {
   "cell_type": "markdown",
   "metadata": {},
   "source": [
    "# Conditional\n",
    "## if-elif-else Statements\n",
    "\n",
    "The usage is similar to C# and Java with a slight differences:\n",
    "- 'elif' is used instead of 'else if'\n",
    "- Indentation is used instead of curly braces { } to indicate a unit of code blocks\n",
    "- colon sign (:) need to be added at the line before the code blocks (refer to the examples)"
   ]
  },
  {
   "cell_type": "code",
   "execution_count": 29,
   "metadata": {},
   "outputs": [
    {
     "name": "stdout",
     "output_type": "stream",
     "text": [
      "Enter hour in 24-hour format:20\n",
      "Good evening\n"
     ]
    }
   ],
   "source": [
    "hour = int(input (\"Enter hour in 24-hour format:\"))\n",
    "\n",
    "if (hour < 6):\n",
    "    print(\"zzzzz\")   \n",
    "elif (hour < 12):\n",
    "    print(\"Good morning\")\n",
    "elif (hour < 18):\n",
    "    print(\"Good afternoon\")\n",
    "else: \n",
    "    print(\"Good evening\")"
   ]
  },
  {
   "cell_type": "markdown",
   "metadata": {},
   "source": [
    "# Iteration\n",
    "\n",
    "## while loop\n",
    "\n",
    "while loop usage is similar to C# and Java.\n"
   ]
  },
  {
   "cell_type": "code",
   "execution_count": 33,
   "metadata": {},
   "outputs": [
    {
     "name": "stdout",
     "output_type": "stream",
     "text": [
      "1\n",
      "2\n",
      "3\n",
      "4\n",
      "5\n",
      "6\n",
      "7\n",
      "8\n",
      "9\n"
     ]
    }
   ],
   "source": [
    "x=1\n",
    "while x < 10:\n",
    "    print(x)\n",
    "    x = x + 1 # you cannot do x++ in Python"
   ]
  },
  {
   "cell_type": "markdown",
   "metadata": {},
   "source": [
    "## for loop\n",
    "\n",
    "In Python, the syntax of for loop is similar to foreach loop in C# and Java. \n",
    "\n",
    "Python will iterate through a sequence and assign the value to the variable for each of the iteration. In the example below, the sequence is generated by the function range(1,10) which create a sequence of numbers from 1 to 10. The sequence can also be an array, list or other kind of sequences in Python"
   ]
  },
  {
   "cell_type": "code",
   "execution_count": null,
   "metadata": {},
   "outputs": [],
   "source": [
    "for(int x=1;x<10;x++){\n",
    "    //do something\n",
    "}"
   ]
  },
  {
   "cell_type": "code",
   "execution_count": 45,
   "metadata": {},
   "outputs": [
    {
     "data": {
      "text/plain": [
       "[10, 12, 14, 16, 18]"
      ]
     },
     "execution_count": 45,
     "metadata": {},
     "output_type": "execute_result"
    }
   ],
   "source": [
    "list(range(10,20,2))"
   ]
  },
  {
   "cell_type": "code",
   "execution_count": 48,
   "metadata": {},
   "outputs": [
    {
     "name": "stdout",
     "output_type": "stream",
     "text": [
      "1\n",
      "2\n",
      "3\n",
      "4\n",
      "5\n",
      "100\n",
      "200\n"
     ]
    }
   ],
   "source": [
    "for x in [1,2,3,4,5,100,200]:\n",
    "    print(x)"
   ]
  },
  {
   "cell_type": "code",
   "execution_count": 42,
   "metadata": {},
   "outputs": [
    {
     "name": "stdout",
     "output_type": "stream",
     "text": [
      "30\n",
      "25\n",
      "20\n",
      "15\n"
     ]
    }
   ],
   "source": [
    "for x in range(30,10, -5): # try range(10), range(-1,20), range(30,10,-2)\n",
    "    print(x)"
   ]
  },
  {
   "cell_type": "markdown",
   "metadata": {},
   "source": [
    "# String formatting\n",
    "\n",
    "In Python, we can do string formatting using the built-in format() function. The general syntax for string formatting is <format string>.format(<values>). The format string can contain placeholders which will be replaced with values supplied in the list of values. The placeholder can contain format specification - which makes it similar to how string formatting is handled in C#. \n",
    "\n",
    "For details, refer to https://docs.python.org/3.6/library/string.html"
   ]
  },
  {
   "cell_type": "code",
   "execution_count": 55,
   "metadata": {},
   "outputs": [
    {
     "data": {
      "text/plain": [
       "'Hello world'"
      ]
     },
     "execution_count": 55,
     "metadata": {},
     "output_type": "execute_result"
    }
   ],
   "source": [
    "\"{} {}\".format(\"Hello\", \"world\")"
   ]
  },
  {
   "cell_type": "code",
   "execution_count": 10,
   "metadata": {},
   "outputs": [
    {
     "name": "stdout",
     "output_type": "stream",
     "text": [
      "100\n",
      "200\n",
      "100-200\n"
     ]
    }
   ],
   "source": [
    "print(\"{0}\".format(100, 200)) # value 100 is used to replace {0} placeholder, 200 is not used\n",
    "print(\"{1}\".format(100, 200)) # 200 is printed because the numbered placeholder refer to the second values\n",
    "\n",
    "print(\"{}-{}\".format(100, 200)) # we can also used an unnumbered placeholder\n"
   ]
  },
  {
   "cell_type": "code",
   "execution_count": 68,
   "metadata": {},
   "outputs": [
    {
     "name": "stdout",
     "output_type": "stream",
     "text": [
      "==============123456\n",
      "==============123456\n"
     ]
    }
   ],
   "source": [
    "print(\"{:=>20}\".format(123456))\n",
    "\n",
    "print(format(123456, \"=>20\"))"
   ]
  },
  {
   "cell_type": "code",
   "execution_count": 11,
   "metadata": {},
   "outputs": [
    {
     "name": "stdout",
     "output_type": "stream",
     "text": [
      "__123456__\n",
      "123456____\n",
      "____123456\n"
     ]
    }
   ],
   "source": [
    "print(\"{0:_^10}\".format(123456)) # center\n",
    "print(\"{0:_<10}\".format(123456)) # left aligned\n",
    "print(\"{0:_>10}\".format(123456)) # right aligned"
   ]
  },
  {
   "cell_type": "code",
   "execution_count": 12,
   "metadata": {},
   "outputs": [
    {
     "name": "stdout",
     "output_type": "stream",
     "text": [
      "____123456\n",
      "____123456\n"
     ]
    }
   ],
   "source": [
    "print(\"{0:_>10}\".format(123456)) # right aligned\n",
    "print(format(123456,\"_>10\")) # another way to format a single value"
   ]
  },
  {
   "cell_type": "code",
   "execution_count": 81,
   "metadata": {},
   "outputs": [
    {
     "data": {
      "text/plain": [
       "'  123,456.79'"
      ]
     },
     "execution_count": 81,
     "metadata": {},
     "output_type": "execute_result"
    }
   ],
   "source": [
    "\"{:>12,.2f}\".format(123456.789)"
   ]
  },
  {
   "cell_type": "code",
   "execution_count": 13,
   "metadata": {},
   "outputs": [
    {
     "name": "stdout",
     "output_type": "stream",
     "text": [
      "___1,234,567\n",
      "_____1.2e+06\n",
      "1,234,567.89\n"
     ]
    }
   ],
   "source": [
    "print(\"{0:_>12,}\".format(1234567)) # right aligned with thousand separator\n",
    "print(\"{0:_>12,.2}\".format(1234567.890123)) # right aligned with thousand separator with 2 number precision\n",
    "print(\"{0:_>12,.2f}\".format(1234567.890123)) # .2 and .2f gives you different result - .2f means that you want to have 2 digits behind the decimal point."
   ]
  },
  {
   "cell_type": "markdown",
   "metadata": {},
   "source": [
    "format() also support type specific formatting. A common example is date formatting. The detail specification of different format can be read from https://docs.python.org/3/library/datetime.html#strftime-strptime-behavior"
   ]
  },
  {
   "cell_type": "code",
   "execution_count": 82,
   "metadata": {},
   "outputs": [
    {
     "name": "stdout",
     "output_type": "stream",
     "text": [
      "{Monday, 01 April 2019}\n"
     ]
    }
   ],
   "source": [
    "import datetime\n",
    "\n",
    "my_date = datetime.date(2019,4,1)\n",
    "\n",
    "print(format(my_date,\"{%A, %d %B %Y}\"))"
   ]
  },
  {
   "cell_type": "code",
   "execution_count": 83,
   "metadata": {},
   "outputs": [
    {
     "name": "stdout",
     "output_type": "stream",
     "text": [
      "{Monday, 01 April 2019}\n"
     ]
    }
   ],
   "source": [
    "import datetime as dt\n",
    "\n",
    "my_date = dt.date(2019,4,1)\n",
    "\n",
    "print(format(my_date,\"{%A, %d %B %Y}\"))"
   ]
  },
  {
   "cell_type": "markdown",
   "metadata": {},
   "source": [
    "# String Interpolation\n",
    "\n",
    "String interpolation is way to substitute values of expression into a placeholder within a string. This feature is available in many languages and is very useful for string manipulation and formatting. \n",
    "\n",
    "There are multiple ways to do string interpolation in Python. https://www.programiz.com/python-programming/string-interpolation\n",
    "\n",
    "The example below demonstrate the f-strings approach"
   ]
  },
  {
   "cell_type": "code",
   "execution_count": 88,
   "metadata": {},
   "outputs": [
    {
     "name": "stdout",
     "output_type": "stream",
     "text": [
      "1\n",
      "He said: \"hi\" Charlotte's Web\n"
     ]
    }
   ],
   "source": [
    "a = 1\n",
    "b = 2\n",
    "\n",
    "s = f\"{a}\"\n",
    "print(s)\n",
    "\n",
    "z = \"Charlotte's Web\"\n",
    "y = 'He said: \"hi\"'\n",
    "\n",
    "print(y,z)"
   ]
  },
  {
   "cell_type": "code",
   "execution_count": 90,
   "metadata": {},
   "outputs": [
    {
     "name": "stdout",
     "output_type": "stream",
     "text": [
      "a + b = _______101\n",
      "1 + 100 = 101\n"
     ]
    }
   ],
   "source": [
    "a = 1\n",
    "b = 100\n",
    "\n",
    "s = f\"a + b = {a + b:_>10}\" # this is string interpolation similar to $\"\" in C#\n",
    "print (s)\n",
    "\n",
    "s = f\"{a} + {b} = {a + b}\"\n",
    "print(s)"
   ]
  },
  {
   "cell_type": "markdown",
   "metadata": {},
   "source": [
    "# Arrays and Matrices\n",
    "\n",
    "Python doesn't really have a built-in support for array, but we can use Python list instead and the usage is similar to how we use array in C# or Java with some extra benefits such as the ability to automatically resize the array. \n"
   ]
  },
  {
   "cell_type": "code",
   "execution_count": 108,
   "metadata": {},
   "outputs": [
    {
     "name": "stdout",
     "output_type": "stream",
     "text": [
      "[1, 2, 3, 'String', True]\n",
      "[1, 2, 3, 'String', True, 4]\n",
      "[1, 2, 4, 3, 'String', True, 4]\n",
      "[1, 2, 4, 'String', True, 4]\n",
      "[1, 2, 'String', True, 4]\n",
      "[2, 'String', True, 4]\n"
     ]
    }
   ],
   "source": [
    "a1 = [1,2,3, \"String\", True]\n",
    "print (a1)\n",
    "a1.append(4)\n",
    "print(a1)\n",
    "a1.insert(2,4)\n",
    "print(a1)\n",
    "a1.pop(3)\n",
    "print(a1)\n",
    "a1.remove(4)\n",
    "print(a1)\n",
    "del a1[0]\n",
    "print(a1)"
   ]
  },
  {
   "cell_type": "code",
   "execution_count": 16,
   "metadata": {},
   "outputs": [
    {
     "name": "stdout",
     "output_type": "stream",
     "text": [
      "Array 1 :  [1, 2, 3, 4, 5]\n",
      "The length of array 1 is  5\n",
      "duck <class 'str'>\n",
      "chicken <class 'str'>\n",
      "3 <class 'int'>\n",
      "4 <class 'int'>\n",
      "True <class 'bool'>\n"
     ]
    }
   ],
   "source": [
    "array_1 = [1,2,3,4,5]\n",
    "\n",
    "print(\"Array 1 : \" , array_1)\n",
    "\n",
    "print(\"The length of array 1 is \" , len(array_1))\n",
    "\n",
    "array_2 = [\"duck\", \"chicken\", 3, 4, True] #array is untyped\n",
    "\n",
    "for val in array_2: \n",
    "    print(val, type(val))"
   ]
  },
  {
   "cell_type": "code",
   "execution_count": 17,
   "metadata": {},
   "outputs": [
    {
     "name": "stdout",
     "output_type": "stream",
     "text": [
      "[1, 2, 3, 4, 5, 100]\n"
     ]
    }
   ],
   "source": [
    "array_1.append(100)\n",
    "print(array_1)"
   ]
  },
  {
   "cell_type": "code",
   "execution_count": 18,
   "metadata": {},
   "outputs": [
    {
     "name": "stdout",
     "output_type": "stream",
     "text": [
      "[1, 2, 200, 3, 4, 5, 100]\n"
     ]
    }
   ],
   "source": [
    "array_1.insert(2,200)\n",
    "print(array_1)"
   ]
  },
  {
   "cell_type": "code",
   "execution_count": 19,
   "metadata": {},
   "outputs": [
    {
     "name": "stdout",
     "output_type": "stream",
     "text": [
      "[1, 2, 3, 4, 5, 100]\n"
     ]
    }
   ],
   "source": [
    "del array_1[2]\n",
    "print(array_1)"
   ]
  },
  {
   "cell_type": "code",
   "execution_count": 20,
   "metadata": {},
   "outputs": [
    {
     "name": "stdout",
     "output_type": "stream",
     "text": [
      "[100, 1, 2, 3, 4, 5, 100]\n",
      "[1, 2, 3, 4, 5, 100]\n"
     ]
    }
   ],
   "source": [
    "array_1.insert(0,100)\n",
    "print(array_1)\n",
    "array_1.remove(100)\n",
    "print(array_1)"
   ]
  },
  {
   "cell_type": "markdown",
   "metadata": {},
   "source": [
    "We can nest the list to create a structure like a multidimensional array in C# or Java"
   ]
  },
  {
   "cell_type": "code",
   "execution_count": 110,
   "metadata": {},
   "outputs": [
    {
     "name": "stdout",
     "output_type": "stream",
     "text": [
      "<class 'list'>\n",
      "3\n"
     ]
    }
   ],
   "source": [
    "mat_1 = [[1,2],[3,4],[5,6]]\n",
    "\n",
    "print(type(mat_1))\n",
    "print(len(mat_1))"
   ]
  },
  {
   "cell_type": "code",
   "execution_count": 120,
   "metadata": {},
   "outputs": [
    {
     "name": "stdout",
     "output_type": "stream",
     "text": [
      "[1, 2] <class 'list'>\n",
      "1\n",
      "[3, 4] <class 'list'>\n",
      "3\n",
      "[5, 6] <class 'list'>\n",
      "5\n",
      "1\n"
     ]
    }
   ],
   "source": [
    "for x in mat_1:\n",
    "    print(x, type(x))\n",
    "    print(x[0])\n",
    "    \n",
    "print(mat_1[0][0])"
   ]
  },
  {
   "cell_type": "markdown",
   "metadata": {},
   "source": [
    "For scientific and mathematical calculation, arrays and matrices are important. Later we will learn two very useful Python libraries which allow powerful array and matrices manipulation. The libraries are NumPy and Pandas"
   ]
  },
  {
   "cell_type": "markdown",
   "metadata": {},
   "source": [
    "# Data Structures (good to know)"
   ]
  },
  {
   "cell_type": "markdown",
   "metadata": {},
   "source": [
    "We have learn about list when we discuss arrays. You can read more about list operations at https://docs.python.org/3/tutorial/datastructures.html\n",
    "\n",
    "Tuple is like a list that cannot be modified once it's constructed. A tuple is enclosed within a '(' and ')' symbol, unlike list which uses '\\[' and '\\]'"
   ]
  },
  {
   "cell_type": "code",
   "execution_count": 121,
   "metadata": {},
   "outputs": [
    {
     "name": "stdout",
     "output_type": "stream",
     "text": [
      "[1, 2, 3, 4, 5] <class 'list'>\n",
      "(1, 2) <class 'tuple'>\n",
      "1\n",
      "1\n"
     ]
    }
   ],
   "source": [
    "list_1 = [1,2,3,4,5]\n",
    "print(list_1, type(list_1))\n",
    "\n",
    "tuple_1 = (1,2)\n",
    "print(tuple_1, type(tuple_1))\n",
    "\n",
    "#first element of list_1\n",
    "print(list_1[0])\n",
    "\n",
    "# first element of tuple_1\n",
    "print(tuple_1[0])"
   ]
  },
  {
   "cell_type": "code",
   "execution_count": 131,
   "metadata": {},
   "outputs": [
    {
     "name": "stdout",
     "output_type": "stream",
     "text": [
      "world\n"
     ]
    }
   ],
   "source": [
    "print(y)"
   ]
  },
  {
   "cell_type": "code",
   "execution_count": 133,
   "metadata": {},
   "outputs": [
    {
     "name": "stdout",
     "output_type": "stream",
     "text": [
      "1\n",
      "None\n",
      "3\n"
     ]
    }
   ],
   "source": [
    "x=None\n",
    "y=None\n",
    "\n",
    "x, _, _ = 1,2,3\n",
    "print(x)\n",
    "print(y)\n",
    "print(_)"
   ]
  },
  {
   "cell_type": "code",
   "execution_count": 130,
   "metadata": {},
   "outputs": [
    {
     "name": "stdout",
     "output_type": "stream",
     "text": [
      "Hello world\n"
     ]
    }
   ],
   "source": [
    "def return_two_string():\n",
    "    return (\"Hello\", \"world\")\n",
    "\n",
    "x, y = return_two_string()\n",
    "print(x, y)"
   ]
  },
  {
   "cell_type": "code",
   "execution_count": 23,
   "metadata": {},
   "outputs": [
    {
     "name": "stdout",
     "output_type": "stream",
     "text": [
      "1\n",
      "2\n",
      "(100, 200, 300)\n"
     ]
    }
   ],
   "source": [
    "# we can unpack a tuple\n",
    "x, y = tuple_1\n",
    "print(x)\n",
    "print(y)\n",
    "\n",
    "# we can pack values into a tuple without parantheses\n",
    "tuple_2 = 100, 200, 300\n",
    "print(tuple_2)"
   ]
  },
  {
   "cell_type": "markdown",
   "metadata": {},
   "source": [
    "A *set* is an unordered collection with no duplicate elements. Basic uses include membership testing and eliminating duplicate entries. Set objects also support mathematical operations like union, intersection, difference, and symmetric difference. Values in a set is enclosed using '{' and '}' symbols."
   ]
  },
  {
   "cell_type": "code",
   "execution_count": 24,
   "metadata": {},
   "outputs": [
    {
     "name": "stdout",
     "output_type": "stream",
     "text": [
      "{'banana', 'orange', 'apple', 'pear'}\n",
      "True\n",
      "False\n"
     ]
    }
   ],
   "source": [
    "basket = {'apple', 'orange', 'apple', 'pear', 'orange', 'banana'}\n",
    "print(basket)  \n",
    "\n",
    "# checking for membership\n",
    "print('orange' in basket)\n",
    "\n",
    "print('durian' in basket)"
   ]
  },
  {
   "cell_type": "code",
   "execution_count": 25,
   "metadata": {},
   "outputs": [
    {
     "name": "stdout",
     "output_type": "stream",
     "text": [
      "{1}\n",
      "{1, 2, 3, 4}\n",
      "{2, 3}\n",
      "{1, 4}\n"
     ]
    }
   ],
   "source": [
    "# substraction\n",
    "print({1,2,3} - {2,3,4})\n",
    "\n",
    "# union\n",
    "print({1,2,3} | {2,3,4})\n",
    "\n",
    "# intersection = items that exist in both sets\n",
    "print({1,2,3} & {2,3,4})\n",
    "\n",
    "# items that exist only in one of the sets\n",
    "print({1,2,3} ^ {2,3,4})"
   ]
  },
  {
   "cell_type": "markdown",
   "metadata": {},
   "source": [
    "A dictionary is a set of key-value pair with unique keys. Values are associated with its respective keys and therefore sometimes it's also called as associative array. In C#, this structure is called a Dictionary and in Java a Map"
   ]
  },
  {
   "cell_type": "code",
   "execution_count": 134,
   "metadata": {},
   "outputs": [
    {
     "name": "stdout",
     "output_type": "stream",
     "text": [
      "{'r1': 'alice', 'r2': 'bob', 'r3': 'charlie', 'r4': None} <class 'dict'>\n"
     ]
    }
   ],
   "source": [
    "map_1 = {'r1': 'alice', 'r2':'bob', 'r3': 'charlie', 'r4': None}\n",
    "print(map_1, type(map_1))"
   ]
  },
  {
   "cell_type": "code",
   "execution_count": 26,
   "metadata": {},
   "outputs": [
    {
     "name": "stdout",
     "output_type": "stream",
     "text": [
      "{'r1': 'alice', 'r2': 'bob', 'r3': 'charlie', 'r4': None} <class 'dict'>\n",
      "bob\n",
      "{'r1': 'alice', 'r2': 'bob', 'r3': 'charlie', 'r4': 'Denise'}\n"
     ]
    }
   ],
   "source": [
    "# Let's say we use our dictionary to represent room booking\n",
    "map_1 = {'r1': 'alice', 'r2':'bob', 'r3': 'charlie', 'r4': None}\n",
    "print(map_1, type(map_1))\n",
    "\n",
    "# checking who books room 2\n",
    "print(map_1['r2'])\n",
    "\n",
    "# Denise books room 4\n",
    "map_1['r4'] = 'Denise'\n",
    "print(map_1)"
   ]
  },
  {
   "cell_type": "code",
   "execution_count": 27,
   "metadata": {},
   "outputs": [
    {
     "name": "stdout",
     "output_type": "stream",
     "text": [
      "{'r1': 'alice', 'r2': 'bob', 'r3': 'charlie', 'r4': 'Denise', 'r5': None}\n"
     ]
    }
   ],
   "source": [
    "# Adding a new key to the map\n",
    "map_1['r5'] = None\n",
    "print(map_1)"
   ]
  },
  {
   "cell_type": "code",
   "execution_count": 28,
   "metadata": {},
   "outputs": [
    {
     "name": "stdout",
     "output_type": "stream",
     "text": [
      "{'r1': 'alice', 'r2': 'bob', 'r3': 'charlie', 'r4': 'Denise'}\n"
     ]
    }
   ],
   "source": [
    "# deleting an key-value pair\n",
    "del map_1['r5']\n",
    "print(map_1)"
   ]
  },
  {
   "cell_type": "code",
   "execution_count": 29,
   "metadata": {},
   "outputs": [
    {
     "name": "stdout",
     "output_type": "stream",
     "text": [
      "['r1', 'r2', 'r3', 'r4']\n",
      "{'name': 'adam', 'height': '170', 'weight': '70'}\n",
      "{'name': 'betty', 'height': 165, 'weight': 65}\n"
     ]
    }
   ],
   "source": [
    "# printing a list of keys\n",
    "print(list(map_1))\n",
    "\n",
    "# create a dictionary from 2 lists\n",
    "print(dict(zip(['name','height','weight'], ['adam','170','70'])))\n",
    "\n",
    "# create a dictionary from a list of tuples\n",
    "print(dict([('name','betty'), ('height', 165), ('weight', 65)]))\n"
   ]
  },
  {
   "cell_type": "code",
   "execution_count": 30,
   "metadata": {},
   "outputs": [
    {
     "name": "stdout",
     "output_type": "stream",
     "text": [
      "[{'name': 'Zed', 'grade': 'A'}, {'name': 'Bee', 'grade': 'B'}]\n",
      "Zed gets a A\n",
      "Bee gets a B\n"
     ]
    }
   ],
   "source": [
    "# sometimes we use map as an informal class/object\n",
    "student_1 = {'name': 'Zed', 'grade':'A'}\n",
    "student_2 = {'name':'Bee', 'grade' : 'B'}\n",
    "\n",
    "group = [student_1, student_2]\n",
    "print(group)\n",
    "\n",
    "for s in group:\n",
    "    print(f\"{s['name']} gets a {s['grade']}\")"
   ]
  },
  {
   "cell_type": "markdown",
   "metadata": {},
   "source": [
    "# Decorators (good to know)"
   ]
  },
  {
   "cell_type": "code",
   "execution_count": 135,
   "metadata": {},
   "outputs": [],
   "source": [
    "def say_hello():\n",
    "    print(\"Hello world!\")"
   ]
  },
  {
   "cell_type": "code",
   "execution_count": 136,
   "metadata": {},
   "outputs": [
    {
     "name": "stdout",
     "output_type": "stream",
     "text": [
      "Hello world!\n"
     ]
    }
   ],
   "source": [
    "say_hello()"
   ]
  },
  {
   "cell_type": "code",
   "execution_count": 137,
   "metadata": {},
   "outputs": [
    {
     "name": "stdout",
     "output_type": "stream",
     "text": [
      "<class 'function'>\n"
     ]
    }
   ],
   "source": [
    "print(type(say_hello))"
   ]
  },
  {
   "cell_type": "markdown",
   "metadata": {},
   "source": [
    "We can assign a function to a variable. This variable will behave like an alias to the function"
   ]
  },
  {
   "cell_type": "code",
   "execution_count": 139,
   "metadata": {},
   "outputs": [
    {
     "name": "stdout",
     "output_type": "stream",
     "text": [
      "Hello world!\n"
     ]
    }
   ],
   "source": [
    "f = say_hello\n",
    "f()"
   ]
  },
  {
   "cell_type": "code",
   "execution_count": 141,
   "metadata": {},
   "outputs": [
    {
     "name": "stdout",
     "output_type": "stream",
     "text": [
      "[<function say_hello at 0x0000024BC3DD5E18>, <function say_hello at 0x0000024BC3DD5E18>, <function say_hello at 0x0000024BC3DD5E18>]\n"
     ]
    }
   ],
   "source": [
    "list_func = [say_hello, say_hello, say_hello]\n",
    "\n",
    "print(list_func)"
   ]
  },
  {
   "cell_type": "code",
   "execution_count": 142,
   "metadata": {},
   "outputs": [
    {
     "name": "stdout",
     "output_type": "stream",
     "text": [
      "Hello world!\n",
      "Hello world!\n",
      "Hello world!\n",
      "Hello world!\n",
      "Hello world!\n"
     ]
    }
   ],
   "source": [
    "# run f() for x times\n",
    "def perform_x_times(x,f):\n",
    "    for i in range(x):\n",
    "        f()\n",
    "        \n",
    "perform_x_times(5, say_hello)"
   ]
  },
  {
   "cell_type": "code",
   "execution_count": 145,
   "metadata": {},
   "outputs": [
    {
     "name": "stdout",
     "output_type": "stream",
     "text": [
      "Hello John\n",
      "Good morning John\n",
      "Good morning Jack\n"
     ]
    }
   ],
   "source": [
    "# You can return a function as a result of another function\n",
    "\n",
    "# This is a function that return another function which print the str and \n",
    "# concatenate with the name\n",
    "def generate_greetings(str):\n",
    "    def greet(name):\n",
    "        print(str + name)\n",
    "    \n",
    "    return greet\n",
    "\n",
    "g = generate_greetings('Hello ')\n",
    "g('John')\n",
    "\n",
    "gm = generate_greetings('Good morning ')\n",
    "gm('John')\n",
    "gm('Jack')\n"
   ]
  },
  {
   "cell_type": "code",
   "execution_count": 146,
   "metadata": {},
   "outputs": [],
   "source": [
    "#To build a decorator, we need to build a function that accept a function \n",
    "#and return another function\n",
    "\n",
    "#twice will return a wrapper function which run func 2 x \n",
    "def twice(func):\n",
    "    def wrapper():\n",
    "        func()\n",
    "        func()\n",
    "    return wrapper"
   ]
  },
  {
   "cell_type": "code",
   "execution_count": 147,
   "metadata": {},
   "outputs": [
    {
     "data": {
      "text/plain": [
       "<function __main__.twice.<locals>.wrapper()>"
      ]
     },
     "execution_count": 147,
     "metadata": {},
     "output_type": "execute_result"
    }
   ],
   "source": [
    "twice(say_hello)"
   ]
  },
  {
   "cell_type": "code",
   "execution_count": 148,
   "metadata": {},
   "outputs": [],
   "source": [
    "say_hello_twice = twice(say_hello)"
   ]
  },
  {
   "cell_type": "code",
   "execution_count": 149,
   "metadata": {},
   "outputs": [
    {
     "name": "stdout",
     "output_type": "stream",
     "text": [
      "Hello world!\n",
      "Hello world!\n"
     ]
    }
   ],
   "source": [
    "say_hello_twice()"
   ]
  },
  {
   "cell_type": "code",
   "execution_count": 154,
   "metadata": {},
   "outputs": [],
   "source": [
    "# Implicitly, Python will run twice(say_hello_2x) instead of\n",
    "# the original say_hello_2x()\n",
    "@twice\n",
    "def say_hello_2x():\n",
    "    print(\"Hello ISS\")"
   ]
  },
  {
   "cell_type": "code",
   "execution_count": 155,
   "metadata": {},
   "outputs": [
    {
     "name": "stdout",
     "output_type": "stream",
     "text": [
      "Hello ISS\n",
      "Hello ISS\n"
     ]
    }
   ],
   "source": [
    "say_hello_2x()"
   ]
  }
 ],
 "metadata": {
  "kernelspec": {
   "display_name": "Python 3",
   "language": "python",
   "name": "python3"
  },
  "language_info": {
   "codemirror_mode": {
    "name": "ipython",
    "version": 3
   },
   "file_extension": ".py",
   "mimetype": "text/x-python",
   "name": "python",
   "nbconvert_exporter": "python",
   "pygments_lexer": "ipython3",
   "version": "3.7.3"
  }
 },
 "nbformat": 4,
 "nbformat_minor": 2
}
