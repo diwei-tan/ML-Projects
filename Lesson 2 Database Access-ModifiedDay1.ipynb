{
 "cells": [
  {
   "cell_type": "markdown",
   "metadata": {},
   "source": [
    "# Lesson 2 Database Access\n",
    "\n",
    "In this lesson, we are going to learn simple database access in Python. We are going to use SQLite since it doesn't require much setup. \n",
    "\n",
    "SQLite is a lightweight database that is stores the database in a file without having to run a dedicated server. The advantage is that SQLite is very lightweight and doesn't require any setup as long as you have the file. The disadvantage is that it is not designed for scalable concurrent access, so it is not suitable for server-side production system that is used by many users.\n",
    "\n",
    "The example is adapted from the official documentation at https://docs.python.org/3.7/library/sqlite3.html"
   ]
  },
  {
   "cell_type": "markdown",
   "metadata": {},
   "source": [
    "To use the module, you must first create a Connection object that represents the database. Here the data will be stored in the example.db file. \n",
    "\n",
    "If you don't wish to create any file (e.g. for testing purpose) you can ask SQLite to keep the database in memory by using :memory: instead. If you use memory, the data will be wiped out when you close the connection, so make sure that you don't close the connection until you are done with your testing. "
   ]
  },
  {
   "cell_type": "code",
   "execution_count": 1,
   "metadata": {},
   "outputs": [],
   "source": [
    "import sqlite3\n",
    "conn = sqlite3.connect('example.db')\n",
    "#conn = sqlite3.connect(':memory:')"
   ]
  },
  {
   "cell_type": "markdown",
   "metadata": {},
   "source": [
    "We need to create a cursor object from the connection. We use cursor object to execute SQL instructions. "
   ]
  },
  {
   "cell_type": "code",
   "execution_count": 2,
   "metadata": {},
   "outputs": [
    {
     "name": "stdout",
     "output_type": "stream",
     "text": [
      "<class 'sqlite3.Connection'> <class 'sqlite3.Cursor'>\n"
     ]
    }
   ],
   "source": [
    "c = conn.cursor()\n",
    "print (type(conn), type(c))"
   ]
  },
  {
   "cell_type": "markdown",
   "metadata": {},
   "source": [
    "Creating a table using cursor object. Note the use of triple single-quote to write a multi-line string."
   ]
  },
  {
   "cell_type": "code",
   "execution_count": 7,
   "metadata": {},
   "outputs": [
    {
     "name": "stdout",
     "output_type": "stream",
     "text": [
      "first line\n",
      "      second line\n"
     ]
    }
   ],
   "source": [
    "s1 = \"\"\"first line\n",
    "      second line\"\"\"\n",
    "    \n",
    "print(s1)"
   ]
  },
  {
   "cell_type": "code",
   "execution_count": 3,
   "metadata": {},
   "outputs": [
    {
     "data": {
      "text/plain": [
       "<sqlite3.Cursor at 0x25d727b5c70>"
      ]
     },
     "execution_count": 3,
     "metadata": {},
     "output_type": "execute_result"
    }
   ],
   "source": [
    "# Create table\n",
    "c.execute('''CREATE TABLE stocks\n",
    "             (date text, trans text, symbol text, qty real, price real)''')\n"
   ]
  },
  {
   "cell_type": "code",
   "execution_count": 10,
   "metadata": {},
   "outputs": [
    {
     "name": "stdout",
     "output_type": "stream",
     "text": [
      "Enter the date: 2019-02-02\n",
      "Enter stock code: ORCL\n",
      "INSERT INTO stocks VALUES ('2019-02-02', 'BUY', 'ORCL',100,35.14)\n"
     ]
    }
   ],
   "source": [
    "date = input (\"Enter the date: \")\n",
    "stock = input(\"Enter stock code: \")\n",
    "\n",
    "sql = f\"INSERT INTO stocks VALUES ('{date}', 'BUY', '{stock}',100,35.14)\"\n",
    "\n",
    "print(sql)"
   ]
  },
  {
   "cell_type": "code",
   "execution_count": 13,
   "metadata": {},
   "outputs": [
    {
     "name": "stdout",
     "output_type": "stream",
     "text": [
      "SELECT * FROM USERS WHERE user_id = 'admin';//' AND password = 'password'\n"
     ]
    }
   ],
   "source": [
    "user = 'user1'\n",
    "pwd = 'password'\n",
    "\n",
    "user = \"admin';//\"\n",
    "\n",
    "sql = f\"SELECT * FROM USERS WHERE user_id = '{user}' AND password = '{pwd}'\"\n",
    "\n",
    "print (sql)"
   ]
  },
  {
   "cell_type": "code",
   "execution_count": 8,
   "metadata": {},
   "outputs": [],
   "source": [
    "# Insert a row of data\n",
    "c.execute(\"INSERT INTO stocks VALUES ('2006-01-05','BUY','RHAT',100,35.14)\")\n",
    "\n",
    "# Save (commit) the changes\n",
    "conn.commit()"
   ]
  },
  {
   "cell_type": "markdown",
   "metadata": {},
   "source": [
    "You shouldn’t assemble your query using Python’s string operations because doing so is insecure; it makes your program vulnerable to an SQL injection attack (see https://xkcd.com/327/ for humorous example of what can go wrong).\n",
    "\n",
    "We should use parameter substitution instead of assembling the SQL using string operation."
   ]
  },
  {
   "cell_type": "code",
   "execution_count": 18,
   "metadata": {},
   "outputs": [],
   "source": [
    "# Larger example that inserts many records at a time\n",
    "purchases = [('2006-03-28', 'BUY', 'IBM', 1000, 45.00),\n",
    "             ('2006-04-05', 'BUY', 'MSFT', 1000, 72.00),\n",
    "             ('2006-04-06', 'SELL', 'IBM', 500, 53.00),\n",
    "            ]\n",
    "c.executemany('INSERT INTO stocks VALUES (?,?,?,?,?)', purchases)\n",
    "\n",
    "conn.commit()"
   ]
  },
  {
   "cell_type": "markdown",
   "metadata": {},
   "source": [
    "We need to close the connection once we are done with it. This is especially important when building long-running application (like a web application) to avoid 'connection leak' problem. Connection leak is a term used to describe a problem of an application running out of database connections because modules do not close the connection after they are done with it."
   ]
  },
  {
   "cell_type": "code",
   "execution_count": 6,
   "metadata": {},
   "outputs": [],
   "source": [
    "# We can also close the connection if we are done with it.\n",
    "# Just be sure any changes have been committed or they will be lost.\n",
    "conn.close()"
   ]
  },
  {
   "cell_type": "code",
   "execution_count": 7,
   "metadata": {},
   "outputs": [],
   "source": [
    "import sqlite3\n",
    "conn = sqlite3.connect('example.db')\n",
    "c = conn.cursor()"
   ]
  },
  {
   "cell_type": "code",
   "execution_count": 14,
   "metadata": {},
   "outputs": [
    {
     "name": "stdout",
     "output_type": "stream",
     "text": [
      "('2006-01-05', 'BUY', 'RHAT', 100.0, 35.14)\n",
      "(('date', None, None, None, None, None, None), ('trans', None, None, None, None, None, None), ('symbol', None, None, None, None, None, None), ('qty', None, None, None, None, None, None), ('price', None, None, None, None, None, None))\n",
      "date\n",
      "trans\n",
      "symbol\n",
      "qty\n",
      "price\n",
      "['date', 'trans', 'symbol', 'qty', 'price']\n"
     ]
    }
   ],
   "source": [
    "# Never do this -- insecure!\n",
    "symbol = 'RHAT'\n",
    "c.execute(\"SELECT * FROM stocks WHERE symbol = '%s'\" % symbol)\n",
    "\n",
    "# Do this instead\n",
    "t = ('RHAT',)\n",
    "c.execute('SELECT * FROM stocks WHERE symbol=?', t)\n",
    "print(c.fetchone())\n",
    "\n",
    "#list of columns returned\n",
    "print(c.description) # this returned a troublesome return value\n",
    "\n",
    "\n",
    "\n"
   ]
  },
  {
   "cell_type": "code",
   "execution_count": 15,
   "metadata": {},
   "outputs": [
    {
     "name": "stdout",
     "output_type": "stream",
     "text": [
      "date\n",
      "trans\n",
      "symbol\n",
      "qty\n",
      "price\n"
     ]
    }
   ],
   "source": [
    "#we can do this to just read the column name\n",
    "for d in c.description:\n",
    "    print(d[0])"
   ]
  },
  {
   "cell_type": "code",
   "execution_count": 16,
   "metadata": {},
   "outputs": [
    {
     "name": "stdout",
     "output_type": "stream",
     "text": [
      "['date', 'trans', 'symbol', 'qty', 'price']\n"
     ]
    }
   ],
   "source": [
    "#or if we have learned about list comprehension we can shorten it this way.\n",
    "print([x[0] for x in c.description])"
   ]
  },
  {
   "cell_type": "code",
   "execution_count": 19,
   "metadata": {},
   "outputs": [
    {
     "name": "stdout",
     "output_type": "stream",
     "text": [
      "('2006-01-05', 'BUY', 'RHAT', 100.0, 35.14)\n",
      "('2006-03-28', 'BUY', 'IBM', 1000.0, 45.0)\n",
      "('2006-04-06', 'SELL', 'IBM', 500.0, 53.0)\n",
      "('2006-04-05', 'BUY', 'MSFT', 1000.0, 72.0)\n"
     ]
    }
   ],
   "source": [
    "for row in c.execute('SELECT * FROM stocks ORDER BY price'):\n",
    "        print(row)\n"
   ]
  },
  {
   "cell_type": "code",
   "execution_count": 20,
   "metadata": {},
   "outputs": [
    {
     "name": "stdout",
     "output_type": "stream",
     "text": [
      "<class 'list'> 4\n",
      "2006-01-05\n",
      "2006-03-28\n",
      "2006-04-06\n",
      "2006-04-05\n"
     ]
    }
   ],
   "source": [
    "rows = c.execute('SELECT * FROM stocks ORDER BY price').fetchall()\n",
    "print(type(rows), len(rows))\n",
    "\n",
    "for row in rows:\n",
    "#    print(type(row))\n",
    "    print(row[0])\n"
   ]
  },
  {
   "cell_type": "code",
   "execution_count": 23,
   "metadata": {},
   "outputs": [
    {
     "name": "stdout",
     "output_type": "stream",
     "text": [
      "RHAT\n",
      "IBM\n",
      "IBM\n",
      "MSFT\n"
     ]
    }
   ],
   "source": [
    "for row in rows:\n",
    "    print(row[2])"
   ]
  },
  {
   "cell_type": "markdown",
   "metadata": {},
   "source": [
    "Always close connection at the end."
   ]
  },
  {
   "cell_type": "code",
   "execution_count": 49,
   "metadata": {},
   "outputs": [],
   "source": [
    "conn.close()\n"
   ]
  }
 ],
 "metadata": {
  "kernelspec": {
   "display_name": "Python 3",
   "language": "python",
   "name": "python3"
  },
  "language_info": {
   "codemirror_mode": {
    "name": "ipython",
    "version": 3
   },
   "file_extension": ".py",
   "mimetype": "text/x-python",
   "name": "python",
   "nbconvert_exporter": "python",
   "pygments_lexer": "ipython3",
   "version": "3.7.3"
  }
 },
 "nbformat": 4,
 "nbformat_minor": 2
}
